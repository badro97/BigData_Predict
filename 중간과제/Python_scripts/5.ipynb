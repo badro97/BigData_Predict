{
 "cells": [
  {
   "cell_type": "code",
   "execution_count": 1,
   "metadata": {},
   "outputs": [],
   "source": [
    "import pandas as pd\n",
    "import numpy as np\n",
    "from sklearn.datasets import load_iris\n",
    "from sklearn.model_selection import train_test_split\n",
    "from sklearn.tree import DecisionTreeClassifier\n",
    "from sklearn.naive_bayes import GaussianNB\n",
    "from sklearn.ensemble import RandomForestClassifier\n",
    "from sklearn.metrics import confusion_matrix, classification_report\n",
    "import seaborn as sns\n",
    "import matplotlib.pyplot as plt"
   ]
  },
  {
   "cell_type": "markdown",
   "metadata": {},
   "source": [
    "### 데이터 준비"
   ]
  },
  {
   "cell_type": "code",
   "execution_count": 5,
   "metadata": {},
   "outputs": [],
   "source": [
    "## iris 데이터셋 로드\n",
    "iris = load_iris()\n",
    "x = iris.data\n",
    "y = iris.target\n",
    "feature_names = iris.feature_names\n",
    "target_names = iris.target_names\n",
    "\n",
    "## 데이터 분할 (70% 학습, 30% 테스트), stratify=y로 클래스 비율 유지\n",
    "x_train, x_test, y_train, y_test = train_test_split(\n",
    "    x, y, test_size=0.3, random_state=42, stratify=y\n",
    ")"
   ]
  },
  {
   "cell_type": "code",
   "execution_count": 6,
   "metadata": {},
   "outputs": [
    {
     "name": "stdout",
     "output_type": "stream",
     "text": [
      "학습 데이터 클래스 분포:\n",
      "setosa: 35\n",
      "versicolor: 35\n",
      "virginica: 35\n",
      "\n",
      "테스트 데이터 클래스 분포:\n",
      "setosa: 15\n",
      "versicolor: 15\n",
      "virginica: 15\n"
     ]
    }
   ],
   "source": [
    "## 학습 데이터와 테스트 데이터의 클래스 분포 확인\n",
    "train_counts = pd.Series(y_train).value_counts().sort_index()\n",
    "test_counts = pd.Series(y_test).value_counts().sort_index()\n",
    "\n",
    "print(\"학습 데이터 클래스 분포:\")\n",
    "for idx, count in train_counts.items():\n",
    "    print(f\"{target_names[idx]}: {count}\")\n",
    "    \n",
    "print(\"\\n테스트 데이터 클래스 분포:\")\n",
    "for idx, count in test_counts.items():\n",
    "    print(f\"{target_names[idx]}: {count}\")\n"
   ]
  },
  {
   "cell_type": "markdown",
   "metadata": {},
   "source": [
    "### 모델 학습 & 예측"
   ]
  },
  {
   "cell_type": "code",
   "execution_count": 8,
   "metadata": {},
   "outputs": [],
   "source": [
    "## 의사결정트리 모델 학습\n",
    "decision_tree = DecisionTreeClassifier(random_state=42)\n",
    "decision_tree.fit(x_train, y_train)\n",
    "\n",
    "## 나이브 베이즈 모델 학습\n",
    "naive_bayes = GaussianNB()\n",
    "naive_bayes.fit(x_train, y_train)\n",
    "\n",
    "## 랜덤 포레스트 모델 학습\n",
    "random_forest = RandomForestClassifier(random_state=42, n_estimators=100, oob_score=True)\n",
    "random_forest.fit(x_train, y_train)\n",
    "\n",
    "## 의사결정트리 예측\n",
    "dt_pred = decision_tree.predict(x_test)\n",
    "\n",
    "## 나이브 베이즈 예측\n",
    "nb_pred = naive_bayes.predict(x_test)\n",
    "\n",
    "## 랜덤 포레스트 예측\n",
    "rf_pred = random_forest.predict(x_test)"
   ]
  },
  {
   "cell_type": "markdown",
   "metadata": {},
   "source": [
    "### 혼돈 행렬 생성"
   ]
  },
  {
   "cell_type": "code",
   "execution_count": 14,
   "metadata": {},
   "outputs": [
    {
     "name": "stdout",
     "output_type": "stream",
     "text": [
      "의사결정트리 혼동 행렬:\n",
      "[[15  0  0]\n",
      " [ 0 12  3]\n",
      " [ 0  0 15]]\n",
      "\n",
      "나이브 베이즈 혼동 행렬:\n",
      "[[15  0  0]\n",
      " [ 0 14  1]\n",
      " [ 0  3 12]]\n",
      "\n",
      "랜덤 포레스트 혼동 행렬:\n",
      "[[15  0  0]\n",
      " [ 0 14  1]\n",
      " [ 0  4 11]]\n"
     ]
    }
   ],
   "source": [
    "## 의사결정트리 혼동 행렬\n",
    "cm_dt = confusion_matrix(y_test, dt_pred)\n",
    "print(\"의사결정트리 혼동 행렬:\")\n",
    "print(cm_dt)\n",
    "\n",
    "## 나이브 베이즈 혼동 행렬\n",
    "cm_nb = confusion_matrix(y_test, nb_pred)\n",
    "print(\"\\n나이브 베이즈 혼동 행렬:\")\n",
    "print(cm_nb)\n",
    "\n",
    "## 랜덤 포레스트 혼동 행렬\n",
    "cm_rf = confusion_matrix(y_test, rf_pred)\n",
    "print(\"\\n랜덤 포레스트 혼동 행렬:\")\n",
    "print(cm_rf)"
   ]
  },
  {
   "cell_type": "markdown",
   "metadata": {},
   "source": [
    "### 모델 성능 평가지표 비교"
   ]
  },
  {
   "cell_type": "code",
   "execution_count": 11,
   "metadata": {},
   "outputs": [
    {
     "name": "stdout",
     "output_type": "stream",
     "text": [
      "의사결정트리 성능 평가:\n",
      "              precision    recall  f1-score   support\n",
      "\n",
      "      setosa     1.0000    1.0000    1.0000        15\n",
      "  versicolor     1.0000    0.8000    0.8889        15\n",
      "   virginica     0.8333    1.0000    0.9091        15\n",
      "\n",
      "    accuracy                         0.9333        45\n",
      "   macro avg     0.9444    0.9333    0.9327        45\n",
      "weighted avg     0.9444    0.9333    0.9327        45\n",
      "\n",
      "나이브 베이즈 성능 평가:\n",
      "              precision    recall  f1-score   support\n",
      "\n",
      "      setosa     1.0000    1.0000    1.0000        15\n",
      "  versicolor     0.8235    0.9333    0.8750        15\n",
      "   virginica     0.9231    0.8000    0.8571        15\n",
      "\n",
      "    accuracy                         0.9111        45\n",
      "   macro avg     0.9155    0.9111    0.9107        45\n",
      "weighted avg     0.9155    0.9111    0.9107        45\n",
      "\n",
      "랜덤 포레스트 성능 평가:\n",
      "              precision    recall  f1-score   support\n",
      "\n",
      "      setosa     1.0000    1.0000    1.0000        15\n",
      "  versicolor     0.7778    0.9333    0.8485        15\n",
      "   virginica     0.9167    0.7333    0.8148        15\n",
      "\n",
      "    accuracy                         0.8889        45\n",
      "   macro avg     0.8981    0.8889    0.8878        45\n",
      "weighted avg     0.8981    0.8889    0.8878        45\n",
      "\n"
     ]
    }
   ],
   "source": [
    "## 의사결정트리 성능 평가\n",
    "print(\"의사결정트리 성능 평가:\")\n",
    "print(classification_report(y_test, dt_pred, target_names=target_names, digits=4))\n",
    "\n",
    "## 나이브 베이즈 성능 평가\n",
    "print(\"나이브 베이즈 성능 평가:\")\n",
    "print(classification_report(y_test, nb_pred, target_names=target_names, digits=4))\n",
    "\n",
    "## 랜덤 포레스트 성능 평가\n",
    "print(\"랜덤 포레스트 성능 평가:\")\n",
    "print(classification_report(y_test, rf_pred, target_names=target_names, digits=4))"
   ]
  }
 ],
 "metadata": {
  "kernelspec": {
   "display_name": "Python 3",
   "language": "python",
   "name": "python3"
  },
  "language_info": {
   "codemirror_mode": {
    "name": "ipython",
    "version": 3
   },
   "file_extension": ".py",
   "mimetype": "text/x-python",
   "name": "python",
   "nbconvert_exporter": "python",
   "pygments_lexer": "ipython3",
   "version": "3.11.4"
  }
 },
 "nbformat": 4,
 "nbformat_minor": 2
}
